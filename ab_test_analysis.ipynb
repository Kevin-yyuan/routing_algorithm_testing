{
 "cells": [
  {
   "cell_type": "markdown",
   "metadata": {},
   "source": [
    "# A/B Test Analysis for a New Routing Algorithm"
   ]
  },
  {
   "cell_type": "markdown",
   "metadata": {},
   "source": [
    "## 1. Load the Data"
   ]
  },
  {
   "cell_type": "code",
   "execution_count": null,
   "metadata": {},
   "outputs": [],
   "source": [
    "import pandas as pd\n",
    "import numpy as np\n",
    "import matplotlib.pyplot as plt\n",
    "import seaborn as sns\n",
    "from scipy.stats import ttest_ind\n",
    "\n",
    "df = pd.read_csv('data/delivery_data.csv')\n",
    "df.head()"
   ]
  },
  {
   "cell_type": "markdown",
   "metadata": {},
   "source": [
    "## 2. Exploratory Data Analysis (EDA)"
   ]
  },
  {
   "cell_type": "code",
   "execution_count": null,
   "metadata": {},
   "outputs": [],
   "source": [
    "df.describe()"
   ]
  },
  {
   "cell_type": "markdown",
   "metadata": {},
   "source": [
    "## 3. Hypothesis Testing"
   ]
  },
  {
   "cell_type": "markdown",
   "metadata": {},
   "source": [
    "### Fuel Consumption"
   ]
  },
  {
   "cell_type": "markdown",
   "metadata": {},
   "source": [
    "**Null Hypothesis (H0):** There is no significant difference in fuel consumption between the control and eco algorithms.\n",
    "**Alternative Hypothesis (H1):** There is a significant difference in fuel consumption between the control and eco algorithms."
   ]
  },
  {
   "cell_type": "code",
   "execution_count": null,
   "metadata": {},
   "outputs": [],
   "source": [
    "control_fuel = df[df['algorithm'] == 'control']['fuel_consumption']\n",
    "eco_fuel = df[df['algorithm'] == 'eco']['fuel_consumption']\n",
    "\n",
    "fuel_ttest = ttest_ind(control_fuel, eco_fuel)\n",
    "print(f'Fuel Consumption t-test p-value: {fuel_ttest.pvalue}')"
   ]
  },
  {
   "cell_type": "markdown",
   "metadata": {},
   "source": [
    "### Delivery Time"
   ]
  },
  {
   "cell_type": "markdown",
   "metadata": {},
   "source": [
    "**Null Hypothesis (H0):** There is no significant difference in delivery time between the control and eco algorithms.\n",
    "**Alternative Hypothesis (H1):** There is a significant difference in delivery time between the control and eco algorithms."
   ]
  },
  {
   "cell_type": "code",
   "execution_count": null,
   "metadata": {},
   "outputs": [],
   "source": [
    "control_time = df[df['algorithm'] == 'control']['delivery_time']\n",
    "eco_time = df[df['algorithm'] == 'eco']['delivery_time']\n",
    "\n",
    "time_ttest = ttest_ind(control_time, eco_time)\n",
    "print(f'Delivery Time t-test p-value: {time_ttest.pvalue}')"
   ]
  },
  {
   "cell_type": "markdown",
   "metadata": {},
   "source": [
    "## 4. Data Visualization"
   ]
  },
  {
   "cell_type": "code",
   "execution_count": null,
   "metadata": {},
   "outputs": [],
   "source": [
    "sns.set_style('darkgrid')\n",
    "plt.figure(figsize=(12, 5))\n",
    "\n",
    "plt.subplot(1, 2, 1)\n",
    "sns.histplot(data=df, x='fuel_consumption', hue='algorithm', kde=True)\n",
    "plt.title('Fuel Consumption (Liters) Distribution')\n",
    "\n",
    "plt.subplot(1, 2, 2)\n",
    "sns.histplot(data=df, x='delivery_time', hue='algorithm', kde=True)\n",
    "plt.title('Delivery Time Distribution')\n",
    "\n",
    "plt.savefig('images/distributions.png')\n",
    "plt.show()"
   ]
  },
  {
   "cell_type": "markdown",
   "metadata": {},
   "source": [
    "## 5. Financial Analysis"
   ]
  },
  {
   "cell_type": "code",
   "execution_count": null,
   "metadata": {},
   "outputs": [],
   "source": [
    "# Financial Assumptions\n",
    "fuel_cost_per_liter = 1.50  # dollars\n",
    "driver_cost_per_hour = 20  # dollars\n",
    "deliveries_per_year = 100000\n",
    "\n",
    "# Calculate the average differences from the sample\n",
    "fuel_difference = control_fuel.mean() - eco_fuel.mean()\n",
    "time_difference = eco_time.mean() - control_time.mean()\n",
    "\n",
    "# Project annual savings and costs\n",
    "annual_fuel_savings = fuel_difference * deliveries_per_year * fuel_cost_per_liter\n",
    "annual_driver_cost_increase = (time_difference / 60) * deliveries_per_year * driver_cost_per_hour\n",
    "\n",
    "net_annual_impact = annual_fuel_savings - annual_driver_cost_increase\n",
    "\n",
    "print(f'Projected Annual Fuel Savings: ${annual_fuel_savings:,.2f}')\n",
    "print(f'Projected Annual Driver Cost Increase: ${annual_driver_cost_increase:,.2f}')\n",
    "print(f'Net Annual Financial Impact: ${net_annual_impact:,.2f}')"
   ]
  },
  {
   "cell_type": "markdown",
   "metadata": {},
   "source": [
    "## 6. Conclusion"
   ]
  },
  {
   "cell_type": "code",
   "execution_count": null,
   "metadata": {},
   "outputs": [],
   "source": [
    "alpha = 0.05\n",
    "\n",
    "print('Statistical Significance:')\n",
    "if fuel_ttest.pvalue < alpha:\n",
    "    print('- The decrease in fuel consumption is statistically significant.')\n",
    "else:\n",
    "    print('- The decrease in fuel consumption is not statistically significant.')\n",
    "\n",
    "if time_ttest.pvalue < alpha:\n",
    "    print('- The increase in delivery time is statistically significant.')\n",
    "else:\n",
    "    print('- The increase in delivery time is not statistically significant.')\n",
    "\n",
    "print('\nFinancial Impact:')\n",
    "if net_annual_impact > 0:\n",
    "    print(f'- The new algorithm is projected to save the company ${net_annual_impact:,.2f} annually.')\n",
    "else:\n",
    "    print(f'- The new algorithm is projected to cost the company ${-net_annual_impact:,.2f} annually.')"
   ]
  }
 ],
 "metadata": {
  "kernelspec": {
   "display_name": "Python 3",
   "language": "python",
   "name": "python3"
  },
  "language_info": {
   "codemirror_mode": {
    "name": "ipython",
    "version": 3
   },
   "file_extension": ".py",
   "mimetype": "text/x-python",
   "name": "python",
   "nbconvert_exporter": "python",
   "pygments_lexer": "ipython3",
   "version": "3.10.9"
  }
 },
 "nbformat": 4,
 "nbformat_minor": 4
}